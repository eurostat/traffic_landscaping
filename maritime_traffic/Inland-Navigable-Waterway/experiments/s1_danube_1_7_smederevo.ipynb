{
  "cells": [
    {
      "cell_type": "markdown",
      "metadata": {
        "id": "view-in-github",
        "colab_type": "text"
      },
      "source": [
        "<a href=\"https://colab.research.google.com/github/cimbelli/Inland_Navigable_Waterway/blob/main/s1_danube_1_7_smederevo.ipynb\" target=\"_parent\"><img src=\"https://colab.research.google.com/assets/colab-badge.svg\" alt=\"Open In Colab\"/></a>"
      ]
    },
    {
      "cell_type": "markdown",
      "source": [
        "### Derive the total km of Serbian navigable waterways of rivers and canals in year ..."
      ],
      "metadata": {
        "id": "kZqg4qmOguK9"
      },
      "id": "kZqg4qmOguK9"
    },
    {
      "cell_type": "code",
      "source": [
        "#year = '2021'"
      ],
      "metadata": {
        "id": "pX7XqUebJuGD"
      },
      "id": "pX7XqUebJuGD",
      "execution_count": null,
      "outputs": []
    },
    {
      "cell_type": "code",
      "source": [
        "### comment below after the first run\n",
        "\n",
        "#!pip install geojson\n",
        "#!pip install earthengine-api\n",
        "\n",
        "url = 'https://raw.githubusercontent.com/cimbelli/Inland_Navigable_Waterway/main/smederovo.geojson'\n",
        "!wget $url\n"
      ],
      "metadata": {
        "id": "A4ni3eDfHGQZ",
        "colab": {
          "base_uri": "https://localhost:8080/"
        },
        "outputId": "4a1163ef-5f6b-40c3-bc1d-4e8ab0525577"
      },
      "id": "A4ni3eDfHGQZ",
      "execution_count": 5,
      "outputs": [
        {
          "output_type": "stream",
          "name": "stdout",
          "text": [
            "--2022-09-28 15:45:01--  https://raw.githubusercontent.com/cimbelli/Inland_Navigable_Waterway/main/smederovo.geojson\n",
            "Resolving raw.githubusercontent.com (raw.githubusercontent.com)... 185.199.109.133, 185.199.110.133, 185.199.111.133, ...\n",
            "Connecting to raw.githubusercontent.com (raw.githubusercontent.com)|185.199.109.133|:443... connected.\n",
            "HTTP request sent, awaiting response... 200 OK\n",
            "Length: 6254 (6.1K) [text/plain]\n",
            "Saving to: ‘smederovo.geojson’\n",
            "\n",
            "\rsmederovo.geojson     0%[                    ]       0  --.-KB/s               \rsmederovo.geojson   100%[===================>]   6.11K  --.-KB/s    in 0s      \n",
            "\n",
            "2022-09-28 15:45:01 (69.0 MB/s) - ‘smederovo.geojson’ saved [6254/6254]\n",
            "\n"
          ]
        }
      ]
    },
    {
      "cell_type": "code",
      "execution_count": 2,
      "id": "42316a79-7782-4b60-9c86-22aa34aa3d7b",
      "metadata": {
        "id": "42316a79-7782-4b60-9c86-22aa34aa3d7b"
      },
      "outputs": [],
      "source": [
        "import ee\n",
        "#import time\n",
        "import matplotlib\n",
        "import numpy as np\n",
        "import requests\n",
        "#import geemap\n",
        "#from urllib.request import urlopen\n",
        "#import urllib\n",
        "\n",
        "import os\n",
        "import time\n",
        "import geojson\n",
        "import datetime, calendar\n",
        "import json\n",
        "import csv\n",
        "\n",
        "import folium\n",
        "#import geopandas as gpd"
      ]
    },
    {
      "cell_type": "code",
      "execution_count": 6,
      "id": "40c98ee8-6cb6-405c-9e8c-d44395f81bc5",
      "metadata": {
        "id": "40c98ee8-6cb6-405c-9e8c-d44395f81bc5"
      },
      "outputs": [],
      "source": [
        "# Define a method for displaying Earth Engine image tiles on a folium map.\n",
        "def add_ee_layer(self, ee_object, vis_params, name):\n",
        "    try:    \n",
        "        # display ee.Image()\n",
        "        if isinstance(ee_object, ee.image.Image):    \n",
        "            map_id_dict = ee.Image(ee_object).getMapId(vis_params)\n",
        "            folium.raster_layers.TileLayer(\n",
        "            tiles = map_id_dict['tile_fetcher'].url_format,\n",
        "            attr = 'Google Earth Engine',\n",
        "            name = name,\n",
        "            overlay = True,\n",
        "            control = True\n",
        "            ).add_to(self)\n",
        "        # display ee.ImageCollection()\n",
        "        elif isinstance(ee_object, ee.imagecollection.ImageCollection):    \n",
        "            ee_object_new = ee_object.mosaic()\n",
        "            map_id_dict = ee.Image(ee_object_new).getMapId(vis_params)\n",
        "            folium.raster_layers.TileLayer(\n",
        "            tiles = map_id_dict['tile_fetcher'].url_format,\n",
        "            attr = 'Google Earth Engine',\n",
        "            name = name,\n",
        "            overlay = True,\n",
        "            control = True\n",
        "            ).add_to(self)\n",
        "        # display ee.Geometry()\n",
        "        elif isinstance(ee_object, ee.geometry.Geometry):    \n",
        "            folium.GeoJson(\n",
        "            data = ee_object.getInfo(),\n",
        "            name = name,\n",
        "            overlay = True,\n",
        "            control = True\n",
        "        ).add_to(self)\n",
        "        # display ee.FeatureCollection()\n",
        "        elif isinstance(ee_object, ee.featurecollection.FeatureCollection):  \n",
        "            ee_object_new = ee.Image().paint(ee_object, 0, 2)\n",
        "            map_id_dict = ee.Image(ee_object_new).getMapId(vis_params)\n",
        "            folium.raster_layers.TileLayer(\n",
        "            tiles = map_id_dict['tile_fetcher'].url_format,\n",
        "            attr = 'Google Earth Engine',\n",
        "            name = name,\n",
        "            overlay = True,\n",
        "            control = True\n",
        "        ).add_to(self)\n",
        "    \n",
        "    except:\n",
        "        print(\"Could not display {}\".format(name))\n",
        "           \n",
        "def download(url, tipo, name):\n",
        "    response = requests.get(url)\n",
        "    \n",
        "    if tipo == \"raster\":\n",
        "        imgref = os.path.join(name + \".tif\")\n",
        "        with open(imgref, 'wb') as fd:\n",
        "            fd.write(response.content)\n",
        "    else:\n",
        "        vec = os.path.join(name + \".geojson\")\n",
        "        with open(vec, 'wb') as fd:\n",
        "            fd.write(response.content)\n",
        "            \n",
        "    return None\n",
        "\n",
        "def download_raster(img, name):\n",
        "    url = img.getDownloadUrl({\n",
        "        'bands': ['VV'],\n",
        "        'region': bb,\n",
        "        'scale' : 10,\n",
        "        'format': 'GEO_TIFF',\n",
        "        'maxPixels': 834607840,\n",
        "        'formatOptions': {\n",
        "            'cloudOptimized': True\n",
        "          }\n",
        "    })\n",
        "    download(url,\"raster\", name)\n",
        "    return None"
      ]
    },
    {
      "cell_type": "code",
      "execution_count": 7,
      "id": "76b79640-c347-4296-87ac-a00c6fc8fbfe",
      "metadata": {
        "id": "76b79640-c347-4296-87ac-a00c6fc8fbfe"
      },
      "outputs": [],
      "source": [
        "#start_time = time.time()\n",
        "# Trigger the authentication flow.\n",
        "\n",
        "#ee.Authenticate()\n",
        "\n",
        "\n",
        "\n",
        "# Initialize the library.\n",
        "ee.Initialize()\n",
        "maxPixels: 6362493000\n",
        "\n",
        "\n",
        "\n",
        "image_viz_params = {\n",
        "    'bands': ['VV'],\n",
        "    'min': 0.0,\n",
        "    'max': 1.0,\n",
        "    #'gamma': [0.95, 1.1, 1]\n",
        "}"
      ]
    },
    {
      "cell_type": "code",
      "execution_count": 8,
      "id": "556eb445",
      "metadata": {
        "id": "556eb445",
        "outputId": "c6611eae-d562-4a3c-97cf-a8e4a2773b63",
        "colab": {
          "base_uri": "https://localhost:8080/",
          "height": 450
        }
      },
      "outputs": [
        {
          "output_type": "error",
          "ename": "EEException",
          "evalue": "ignored",
          "traceback": [
            "\u001b[0;31m---------------------------------------------------------------------------\u001b[0m",
            "\u001b[0;31mHttpError\u001b[0m                                 Traceback (most recent call last)",
            "\u001b[0;32m/usr/local/lib/python3.7/dist-packages/ee/data.py\u001b[0m in \u001b[0;36m_execute_cloud_call\u001b[0;34m(call, num_retries)\u001b[0m\n\u001b[1;32m    327\u001b[0m   \u001b[0;32mtry\u001b[0m\u001b[0;34m:\u001b[0m\u001b[0;34m\u001b[0m\u001b[0;34m\u001b[0m\u001b[0m\n\u001b[0;32m--> 328\u001b[0;31m     \u001b[0;32mreturn\u001b[0m \u001b[0mcall\u001b[0m\u001b[0;34m.\u001b[0m\u001b[0mexecute\u001b[0m\u001b[0;34m(\u001b[0m\u001b[0mnum_retries\u001b[0m\u001b[0;34m=\u001b[0m\u001b[0mnum_retries\u001b[0m\u001b[0;34m)\u001b[0m\u001b[0;34m\u001b[0m\u001b[0;34m\u001b[0m\u001b[0m\n\u001b[0m\u001b[1;32m    329\u001b[0m   \u001b[0;32mexcept\u001b[0m \u001b[0mgoogleapiclient\u001b[0m\u001b[0;34m.\u001b[0m\u001b[0merrors\u001b[0m\u001b[0;34m.\u001b[0m\u001b[0mHttpError\u001b[0m \u001b[0;32mas\u001b[0m \u001b[0me\u001b[0m\u001b[0;34m:\u001b[0m\u001b[0;34m\u001b[0m\u001b[0;34m\u001b[0m\u001b[0m\n",
            "\u001b[0;32m/usr/local/lib/python3.7/dist-packages/googleapiclient/_helpers.py\u001b[0m in \u001b[0;36mpositional_wrapper\u001b[0;34m(*args, **kwargs)\u001b[0m\n\u001b[1;32m    133\u001b[0m                     \u001b[0mlogger\u001b[0m\u001b[0;34m.\u001b[0m\u001b[0mwarning\u001b[0m\u001b[0;34m(\u001b[0m\u001b[0mmessage\u001b[0m\u001b[0;34m)\u001b[0m\u001b[0;34m\u001b[0m\u001b[0;34m\u001b[0m\u001b[0m\n\u001b[0;32m--> 134\u001b[0;31m             \u001b[0;32mreturn\u001b[0m \u001b[0mwrapped\u001b[0m\u001b[0;34m(\u001b[0m\u001b[0;34m*\u001b[0m\u001b[0margs\u001b[0m\u001b[0;34m,\u001b[0m \u001b[0;34m**\u001b[0m\u001b[0mkwargs\u001b[0m\u001b[0;34m)\u001b[0m\u001b[0;34m\u001b[0m\u001b[0;34m\u001b[0m\u001b[0m\n\u001b[0m\u001b[1;32m    135\u001b[0m \u001b[0;34m\u001b[0m\u001b[0m\n",
            "\u001b[0;32m/usr/local/lib/python3.7/dist-packages/googleapiclient/http.py\u001b[0m in \u001b[0;36mexecute\u001b[0;34m(self, http, num_retries)\u001b[0m\n\u001b[1;32m    914\u001b[0m         \u001b[0;32mif\u001b[0m \u001b[0mresp\u001b[0m\u001b[0;34m.\u001b[0m\u001b[0mstatus\u001b[0m \u001b[0;34m>=\u001b[0m \u001b[0;36m300\u001b[0m\u001b[0;34m:\u001b[0m\u001b[0;34m\u001b[0m\u001b[0;34m\u001b[0m\u001b[0m\n\u001b[0;32m--> 915\u001b[0;31m             \u001b[0;32mraise\u001b[0m \u001b[0mHttpError\u001b[0m\u001b[0;34m(\u001b[0m\u001b[0mresp\u001b[0m\u001b[0;34m,\u001b[0m \u001b[0mcontent\u001b[0m\u001b[0;34m,\u001b[0m \u001b[0muri\u001b[0m\u001b[0;34m=\u001b[0m\u001b[0mself\u001b[0m\u001b[0;34m.\u001b[0m\u001b[0muri\u001b[0m\u001b[0;34m)\u001b[0m\u001b[0;34m\u001b[0m\u001b[0;34m\u001b[0m\u001b[0m\n\u001b[0m\u001b[1;32m    916\u001b[0m         \u001b[0;32mreturn\u001b[0m \u001b[0mself\u001b[0m\u001b[0;34m.\u001b[0m\u001b[0mpostproc\u001b[0m\u001b[0;34m(\u001b[0m\u001b[0mresp\u001b[0m\u001b[0;34m,\u001b[0m \u001b[0mcontent\u001b[0m\u001b[0;34m)\u001b[0m\u001b[0;34m\u001b[0m\u001b[0;34m\u001b[0m\u001b[0m\n",
            "\u001b[0;31mHttpError\u001b[0m: <HttpError 400 when requesting https://earthengine.googleapis.com/v1alpha/projects/earthengine-legacy/value:compute?prettyPrint=false&alt=json returned \"DateRange: Bad date/time '2017-0-01'.\". Details: \"DateRange: Bad date/time '2017-0-01'.\">",
            "\nDuring handling of the above exception, another exception occurred:\n",
            "\u001b[0;31mEEException\u001b[0m                               Traceback (most recent call last)",
            "\u001b[0;32m<ipython-input-8-1f4bedd77967>\u001b[0m in \u001b[0;36m<module>\u001b[0;34m\u001b[0m\n\u001b[1;32m     62\u001b[0m                 \u001b[0;31m#vessels_centroids1 = vessels_centroids.intersection(aoi)\u001b[0m\u001b[0;34m\u001b[0m\u001b[0;34m\u001b[0m\u001b[0;34m\u001b[0m\u001b[0m\n\u001b[1;32m     63\u001b[0m                 \u001b[0mvessels_centroids1\u001b[0m \u001b[0;34m=\u001b[0m \u001b[0mvessels_centroids\u001b[0m\u001b[0;34m.\u001b[0m\u001b[0mfilter\u001b[0m\u001b[0;34m(\u001b[0m\u001b[0mee\u001b[0m\u001b[0;34m.\u001b[0m\u001b[0mFilter\u001b[0m\u001b[0;34m.\u001b[0m\u001b[0mbounds\u001b[0m\u001b[0;34m(\u001b[0m\u001b[0maoi\u001b[0m\u001b[0;34m)\u001b[0m\u001b[0;34m)\u001b[0m\u001b[0;34m\u001b[0m\u001b[0;34m\u001b[0m\u001b[0m\n\u001b[0;32m---> 64\u001b[0;31m                 \u001b[0mn_vessels\u001b[0m \u001b[0;34m=\u001b[0m \u001b[0mvessels_centroids1\u001b[0m\u001b[0;34m.\u001b[0m\u001b[0msize\u001b[0m\u001b[0;34m(\u001b[0m\u001b[0;34m)\u001b[0m\u001b[0;34m.\u001b[0m\u001b[0mgetInfo\u001b[0m\u001b[0;34m(\u001b[0m\u001b[0;34m)\u001b[0m\u001b[0;34m\u001b[0m\u001b[0;34m\u001b[0m\u001b[0m\n\u001b[0m\u001b[1;32m     65\u001b[0m                 \u001b[0mn_imgs\u001b[0m \u001b[0;34m=\u001b[0m \u001b[0mimgVV\u001b[0m\u001b[0;34m.\u001b[0m\u001b[0msize\u001b[0m\u001b[0;34m(\u001b[0m\u001b[0;34m)\u001b[0m\u001b[0;34m.\u001b[0m\u001b[0mgetInfo\u001b[0m\u001b[0;34m(\u001b[0m\u001b[0;34m)\u001b[0m\u001b[0;34m\u001b[0m\u001b[0;34m\u001b[0m\u001b[0m\n\u001b[1;32m     66\u001b[0m                 \u001b[0mdens\u001b[0m \u001b[0;34m=\u001b[0m \u001b[0mround\u001b[0m\u001b[0;34m(\u001b[0m\u001b[0;36m100\u001b[0m\u001b[0;34m*\u001b[0m\u001b[0mn_vessels\u001b[0m\u001b[0;34m/\u001b[0m\u001b[0mn_imgs\u001b[0m\u001b[0;34m,\u001b[0m\u001b[0;36m2\u001b[0m\u001b[0;34m)\u001b[0m\u001b[0;34m\u001b[0m\u001b[0;34m\u001b[0m\u001b[0m\n",
            "\u001b[0;32m/usr/local/lib/python3.7/dist-packages/ee/computedobject.py\u001b[0m in \u001b[0;36mgetInfo\u001b[0;34m(self)\u001b[0m\n\u001b[1;32m     96\u001b[0m       \u001b[0mThe\u001b[0m \u001b[0mobject\u001b[0m \u001b[0mcan\u001b[0m \u001b[0mevaluate\u001b[0m \u001b[0mto\u001b[0m \u001b[0manything\u001b[0m\u001b[0;34m.\u001b[0m\u001b[0;34m\u001b[0m\u001b[0;34m\u001b[0m\u001b[0m\n\u001b[1;32m     97\u001b[0m     \"\"\"\n\u001b[0;32m---> 98\u001b[0;31m     \u001b[0;32mreturn\u001b[0m \u001b[0mdata\u001b[0m\u001b[0;34m.\u001b[0m\u001b[0mcomputeValue\u001b[0m\u001b[0;34m(\u001b[0m\u001b[0mself\u001b[0m\u001b[0;34m)\u001b[0m\u001b[0;34m\u001b[0m\u001b[0;34m\u001b[0m\u001b[0m\n\u001b[0m\u001b[1;32m     99\u001b[0m \u001b[0;34m\u001b[0m\u001b[0m\n\u001b[1;32m    100\u001b[0m   \u001b[0;32mdef\u001b[0m \u001b[0mencode\u001b[0m\u001b[0;34m(\u001b[0m\u001b[0mself\u001b[0m\u001b[0;34m,\u001b[0m \u001b[0mencoder\u001b[0m\u001b[0;34m)\u001b[0m\u001b[0;34m:\u001b[0m\u001b[0;34m\u001b[0m\u001b[0;34m\u001b[0m\u001b[0m\n",
            "\u001b[0;32m/usr/local/lib/python3.7/dist-packages/ee/data.py\u001b[0m in \u001b[0;36mcomputeValue\u001b[0;34m(obj)\u001b[0m\n\u001b[1;32m    740\u001b[0m           \u001b[0mbody\u001b[0m\u001b[0;34m=\u001b[0m\u001b[0mbody\u001b[0m\u001b[0;34m,\u001b[0m\u001b[0;34m\u001b[0m\u001b[0;34m\u001b[0m\u001b[0m\n\u001b[1;32m    741\u001b[0m           \u001b[0mproject\u001b[0m\u001b[0;34m=\u001b[0m\u001b[0m_get_projects_path\u001b[0m\u001b[0;34m(\u001b[0m\u001b[0;34m)\u001b[0m\u001b[0;34m,\u001b[0m\u001b[0;34m\u001b[0m\u001b[0;34m\u001b[0m\u001b[0m\n\u001b[0;32m--> 742\u001b[0;31m           prettyPrint=False))['result']\n\u001b[0m\u001b[1;32m    743\u001b[0m \u001b[0;34m\u001b[0m\u001b[0m\n\u001b[1;32m    744\u001b[0m \u001b[0;34m\u001b[0m\u001b[0m\n",
            "\u001b[0;32m/usr/local/lib/python3.7/dist-packages/ee/data.py\u001b[0m in \u001b[0;36m_execute_cloud_call\u001b[0;34m(call, num_retries)\u001b[0m\n\u001b[1;32m    328\u001b[0m     \u001b[0;32mreturn\u001b[0m \u001b[0mcall\u001b[0m\u001b[0;34m.\u001b[0m\u001b[0mexecute\u001b[0m\u001b[0;34m(\u001b[0m\u001b[0mnum_retries\u001b[0m\u001b[0;34m=\u001b[0m\u001b[0mnum_retries\u001b[0m\u001b[0;34m)\u001b[0m\u001b[0;34m\u001b[0m\u001b[0;34m\u001b[0m\u001b[0m\n\u001b[1;32m    329\u001b[0m   \u001b[0;32mexcept\u001b[0m \u001b[0mgoogleapiclient\u001b[0m\u001b[0;34m.\u001b[0m\u001b[0merrors\u001b[0m\u001b[0;34m.\u001b[0m\u001b[0mHttpError\u001b[0m \u001b[0;32mas\u001b[0m \u001b[0me\u001b[0m\u001b[0;34m:\u001b[0m\u001b[0;34m\u001b[0m\u001b[0;34m\u001b[0m\u001b[0m\n\u001b[0;32m--> 330\u001b[0;31m     \u001b[0;32mraise\u001b[0m \u001b[0m_translate_cloud_exception\u001b[0m\u001b[0;34m(\u001b[0m\u001b[0me\u001b[0m\u001b[0;34m)\u001b[0m\u001b[0;34m\u001b[0m\u001b[0;34m\u001b[0m\u001b[0m\n\u001b[0m\u001b[1;32m    331\u001b[0m \u001b[0;34m\u001b[0m\u001b[0m\n\u001b[1;32m    332\u001b[0m \u001b[0;34m\u001b[0m\u001b[0m\n",
            "\u001b[0;31mEEException\u001b[0m: DateRange: Bad date/time '2017-0-01'."
          ]
        }
      ],
      "source": [
        "f = open('smederovo.geojson')\n",
        "data1 = json.load(f)\n",
        "\n",
        "csvfilename = \"Serbia_smederovo.csv\"\n",
        "header = ['year', 'month', 'vessels', 'imgs']\n",
        "with open(csvfilename, 'w', encoding='UTF8') as f1:\n",
        "    writer = csv.writer(f1)\n",
        "    writer.writerow(header)\n",
        "\n",
        "    for year in range (2017, 2022):\n",
        "\n",
        "        for m in range(1,13):\n",
        "            \n",
        "            id1 = data1['features'][0]['properties']['id']\n",
        "            if id1 == 19:\n",
        "                coords = data1['features'][0]['geometry']['coordinates']\n",
        "                try:\n",
        "                    [j.pop(2) for j in coords[0][0]]\n",
        "                except:\n",
        "                  None\n",
        "                \n",
        "                aoi = ee.Geometry.Polygon(coords[0][0])\n",
        "\n",
        "                m1 = ('0' if m <10 else'') + str(m)\n",
        "                date1 = str(year) + '-' + m1 + '-01'\n",
        "                date2 = str(year) + '-' + m1 + '-' + str(calendar.monthrange(int(year), m)[1])\n",
        "                \n",
        "                #if id1 > 20:\n",
        "                    #print(id1)\n",
        "\n",
        "                imgVV = (ee.ImageCollection('COPERNICUS/S1_GRD_FLOAT')   #S1_GRD_FLOAT\n",
        "                        .filter(ee.Filter.listContains('transmitterReceiverPolarisation', 'VV')) \n",
        "                        .filter(ee.Filter.eq('instrumentMode', 'IW'))\n",
        "                        .select('VV')\n",
        "                        .filterDate(date1, date2)\n",
        "                        .filterBounds(aoi)\n",
        "                        #.reduce(ee.Reducer.percentile([50]))\n",
        "                        )\n",
        "\n",
        "                imgVV_fixed = imgVV.max().clip(aoi).toUint8()\n",
        "                im = imgVV_fixed\n",
        "\n",
        "                center = list(aoi.centroid().getInfo().values())[1][1], list(aoi.centroid().getInfo().values())[1][0]\n",
        "\n",
        "                ####### map\n",
        "                #map1 = folium.Map(location=center, zoom_start=10)\n",
        "                #folium.Map.add_ee_layer = add_ee_layer\n",
        "                #map1.add_ee_layer(im, image_viz_params, 'false color composite')\n",
        "                #display(map1)\n",
        "\n",
        "                classes = im.reduceToVectors(\n",
        "                    **{\n",
        "                    'reducer': ee.Reducer.countEvery(),\n",
        "                    'geometry': aoi.getInfo(),\n",
        "                    'scale': 10,\n",
        "                    'maxPixels': 100000000\n",
        "                })\n",
        "\n",
        "                vessels = (ee.FeatureCollection(classes).filter(ee.Filter.gt('count', 15)).filter(ee.Filter.lt('count', 10000)))\n",
        "                vessels_centroids = vessels.map(lambda f: f.centroid(10))\n",
        "\n",
        "                #vessels_centroids1 = vessels_centroids.intersection(aoi)\n",
        "                vessels_centroids1 = vessels_centroids.filter(ee.Filter.bounds(aoi))\n",
        "                n_vessels = vessels_centroids1.size().getInfo()\n",
        "                n_imgs = imgVV.size().getInfo()\n",
        "                dens = round(100*n_vessels/n_imgs,2)\n",
        "\n",
        "                print(\"there are\", n_vessels, \"vessels\", \"in the\", type1, \"with id\", id1, \"and lenght\", lenkm1, \"km\", \"n_img\", imgVV.size().getInfo())\n",
        "                writer.writerow([year, m, n_vessels, n_imgs])\n",
        "                \n",
        "                \n",
        "                downloadUrl1 = vessels_centroids1.getDownloadURL(**{'filetype': 'GEOJSON'})\n",
        "                download(downloadUrl1, \"vessels\", \"vessels_id_\" + str(id1) + \"_\" + year)\n",
        "                print(year, m, n_vessels)\n",
        "\n",
        "print(\"finito\")\n",
        "\n"
      ]
    }
  ],
  "metadata": {
    "kernelspec": {
      "display_name": "Python 3 (ipykernel)",
      "language": "python",
      "name": "python3"
    },
    "language_info": {
      "codemirror_mode": {
        "name": "ipython",
        "version": 3
      },
      "file_extension": ".py",
      "mimetype": "text/x-python",
      "name": "python",
      "nbconvert_exporter": "python",
      "pygments_lexer": "ipython3",
      "version": "3.7.12"
    },
    "colab": {
      "provenance": [],
      "collapsed_sections": [],
      "include_colab_link": true
    }
  },
  "nbformat": 4,
  "nbformat_minor": 5
}
