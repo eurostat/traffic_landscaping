{
  "cells": [
    {
      "cell_type": "markdown",
      "metadata": {
        "id": "view-in-github",
        "colab_type": "text"
      },
      "source": [
        "<a href=\"https://colab.research.google.com/github/cimbelli/Inland_Navigable_Waterway/blob/main/s1_danube_1_6.ipynb\" target=\"_parent\"><img src=\"https://colab.research.google.com/assets/colab-badge.svg\" alt=\"Open In Colab\"/></a>"
      ]
    },
    {
      "cell_type": "markdown",
      "source": [
        "### Derive the total km of Serbian navigable waterways of rivers and canals in year ..."
      ],
      "metadata": {
        "id": "kZqg4qmOguK9"
      },
      "id": "kZqg4qmOguK9"
    },
    {
      "cell_type": "code",
      "source": [
        "year = '2022'"
      ],
      "metadata": {
        "id": "pX7XqUebJuGD"
      },
      "id": "pX7XqUebJuGD",
      "execution_count": 89,
      "outputs": []
    },
    {
      "cell_type": "code",
      "source": [
        "### comment below after the first run\n",
        "\n",
        "!pip install geojson\n",
        "!pip install earthengine-api\n",
        "\n",
        "#url = 'https://raw.githubusercontent.com/cimbelli/Inland_Navigable_Waterway/main/waterway_poly6.geojson'\n",
        "#!wget $url\n"
      ],
      "metadata": {
        "id": "A4ni3eDfHGQZ"
      },
      "id": "A4ni3eDfHGQZ",
      "execution_count": 90,
      "outputs": []
    },
    {
      "cell_type": "code",
      "execution_count": 91,
      "id": "42316a79-7782-4b60-9c86-22aa34aa3d7b",
      "metadata": {
        "id": "42316a79-7782-4b60-9c86-22aa34aa3d7b"
      },
      "outputs": [],
      "source": [
        "import ee\n",
        "#import time\n",
        "import matplotlib\n",
        "import numpy as np\n",
        "import requests\n",
        "#import geemap\n",
        "#from urllib.request import urlopen\n",
        "#import urllib\n",
        "\n",
        "import os\n",
        "import time\n",
        "import geojson\n",
        "import datetime\n",
        "import json\n",
        "import csv\n",
        "\n",
        "import folium\n",
        "#import geopandas as gpd"
      ]
    },
    {
      "cell_type": "code",
      "execution_count": 92,
      "id": "40c98ee8-6cb6-405c-9e8c-d44395f81bc5",
      "metadata": {
        "id": "40c98ee8-6cb6-405c-9e8c-d44395f81bc5"
      },
      "outputs": [],
      "source": [
        "# Define a method for displaying Earth Engine image tiles on a folium map.\n",
        "def add_ee_layer(self, ee_object, vis_params, name):\n",
        "    try:    \n",
        "        # display ee.Image()\n",
        "        if isinstance(ee_object, ee.image.Image):    \n",
        "            map_id_dict = ee.Image(ee_object).getMapId(vis_params)\n",
        "            folium.raster_layers.TileLayer(\n",
        "            tiles = map_id_dict['tile_fetcher'].url_format,\n",
        "            attr = 'Google Earth Engine',\n",
        "            name = name,\n",
        "            overlay = True,\n",
        "            control = True\n",
        "            ).add_to(self)\n",
        "        # display ee.ImageCollection()\n",
        "        elif isinstance(ee_object, ee.imagecollection.ImageCollection):    \n",
        "            ee_object_new = ee_object.mosaic()\n",
        "            map_id_dict = ee.Image(ee_object_new).getMapId(vis_params)\n",
        "            folium.raster_layers.TileLayer(\n",
        "            tiles = map_id_dict['tile_fetcher'].url_format,\n",
        "            attr = 'Google Earth Engine',\n",
        "            name = name,\n",
        "            overlay = True,\n",
        "            control = True\n",
        "            ).add_to(self)\n",
        "        # display ee.Geometry()\n",
        "        elif isinstance(ee_object, ee.geometry.Geometry):    \n",
        "            folium.GeoJson(\n",
        "            data = ee_object.getInfo(),\n",
        "            name = name,\n",
        "            overlay = True,\n",
        "            control = True\n",
        "        ).add_to(self)\n",
        "        # display ee.FeatureCollection()\n",
        "        elif isinstance(ee_object, ee.featurecollection.FeatureCollection):  \n",
        "            ee_object_new = ee.Image().paint(ee_object, 0, 2)\n",
        "            map_id_dict = ee.Image(ee_object_new).getMapId(vis_params)\n",
        "            folium.raster_layers.TileLayer(\n",
        "            tiles = map_id_dict['tile_fetcher'].url_format,\n",
        "            attr = 'Google Earth Engine',\n",
        "            name = name,\n",
        "            overlay = True,\n",
        "            control = True\n",
        "        ).add_to(self)\n",
        "    \n",
        "    except:\n",
        "        print(\"Could not display {}\".format(name))\n",
        "           \n",
        "def download(url, tipo, name):\n",
        "    response = requests.get(url)\n",
        "    \n",
        "    if tipo == \"raster\":\n",
        "        imgref = os.path.join(name + \".tif\")\n",
        "        with open(imgref, 'wb') as fd:\n",
        "            fd.write(response.content)\n",
        "    else:\n",
        "        vec = os.path.join(name + \".geojson\")\n",
        "        with open(vec, 'wb') as fd:\n",
        "            fd.write(response.content)\n",
        "            \n",
        "    return None\n",
        "\n",
        "def download_raster(img, name):\n",
        "    url = img.getDownloadUrl({\n",
        "        'bands': ['VV'],\n",
        "        'region': bb,\n",
        "        'scale' : 10,\n",
        "        'format': 'GEO_TIFF',\n",
        "        'maxPixels': 834607840,\n",
        "        'formatOptions': {\n",
        "            'cloudOptimized': True\n",
        "          }\n",
        "    })\n",
        "    download(url,\"raster\", name)\n",
        "    return None"
      ]
    },
    {
      "cell_type": "code",
      "execution_count": 93,
      "id": "76b79640-c347-4296-87ac-a00c6fc8fbfe",
      "metadata": {
        "id": "76b79640-c347-4296-87ac-a00c6fc8fbfe"
      },
      "outputs": [],
      "source": [
        "#start_time = time.time()\n",
        "# Trigger the authentication flow.\n",
        "\n",
        "#ee.Authenticate()\n",
        "\n",
        "\n",
        "\n",
        "# Initialize the library.\n",
        "ee.Initialize()\n",
        "maxPixels: 6362493000\n",
        "\n",
        "sDate0 = year + '-01-01'    #last 6 months 2021\n",
        "fDate = year + '-12-31'\n",
        "\n",
        "csvfilename = \"Serbia_navigable_inland_waterways_\" + year + \".csv\"\n",
        "\n",
        "image_viz_params = {\n",
        "    'bands': ['VV'],\n",
        "    'min': 0.0,\n",
        "    'max': 1.0,\n",
        "    #'gamma': [0.95, 1.1, 1]\n",
        "}"
      ]
    },
    {
      "cell_type": "code",
      "execution_count": 94,
      "id": "556eb445",
      "metadata": {
        "id": "556eb445",
        "outputId": "e6084c28-2502-4311-cecf-cfff850e81bc",
        "colab": {
          "base_uri": "https://localhost:8080/"
        }
      },
      "outputs": [
        {
          "output_type": "stream",
          "name": "stdout",
          "text": [
            "there are 2 vessels in the river with id 1 and lenght 143 km n_img 106\n",
            "there are 1 vessels in the river with id 2 and lenght 92 km n_img 86\n",
            "there are 1 vessels in the river with id 3 and lenght 54 km n_img 109\n",
            "there are 1 vessels in the river with id 4 and lenght 88 km n_img 66\n",
            "there are 3 vessels in the river with id 5 and lenght 45 km n_img 63\n",
            "there are 0 vessels in the river with id 6 and lenght 147 km n_img 43\n",
            "there are 5 vessels in the river with id 7 and lenght 59 km n_img 86\n",
            "there are 1 vessels in the river with id 8 and lenght 25 km n_img 86\n",
            "there are 9 vessels in the river with id 10 and lenght 104 km n_img 86\n",
            "there are 16 vessels in the river with id 11 and lenght 37 km n_img 79\n",
            "there are 34 vessels in the river with id 12 and lenght 24 km n_img 63\n",
            "there are 111 vessels in the river with id 15 and lenght 59 km n_img 89\n",
            "there are 152 vessels in the river with id 16 and lenght 117 km n_img 68\n",
            "there are 34 vessels in the river with id 17 and lenght 46 km n_img 85\n",
            "there are 3 vessels in the river with id 18 and lenght 21 km n_img 66\n",
            "there are 545 vessels in the river with id 19 and lenght 238 km n_img 111\n",
            "there are 57 vessels in the river with id 20 and lenght 19 km n_img 68\n",
            "there are 21 vessels in the river with id 21 and lenght 121 km n_img 66\n",
            "there are 37 vessels in the river with id 22 and lenght 49 km n_img 86\n",
            "there are 0 vessels in the canal with id 101 and lenght 123 km n_img 89\n",
            "there are 1 vessels in the canal with id 102 and lenght 29 km n_img 87\n",
            "there are 2 vessels in the canal with id 103 and lenght 12 km n_img 82\n",
            "there are 4 vessels in the canal with id 104 and lenght 36 km n_img 107\n",
            "there are 1 vessels in the canal with id 106 and lenght 11 km n_img 89\n",
            "there are 4 vessels in the canal with id 107 and lenght 20 km n_img 85\n",
            "there are 0 vessels in the canal with id 108 and lenght 46 km n_img 66\n",
            "there are 4 vessels in the canal with id 110 and lenght 20 km n_img 84\n",
            "there are 6 vessels in the canal with id 111 and lenght 55 km n_img 63\n",
            "there are 0 vessels in the canal with id 112 and lenght 36 km n_img 111\n",
            "there are 0 vessels in the canal with id 113 and lenght 49 km n_img 66\n",
            "\n",
            "1341 kms of Navigable rivers and lakes\n",
            "183 kms of Navigable canals\n",
            "Total of 1524 kms of Inland waterways\n"
          ]
        }
      ],
      "source": [
        "f = open('waterway_poly6.geojson')\n",
        "data1 = json.load(f)\n",
        "\n",
        "header = ['id', 'length', 'vessels', 'imgs', 'dens' + year]\n",
        "with open(csvfilename, 'w', encoding='UTF8') as f1:\n",
        "    writer = csv.writer(f1)\n",
        "    writer.writerow(header)\n",
        "    \n",
        "\n",
        "    tot_len_rivers = 0\n",
        "    tot_len_canals = 0\n",
        "    for i in range(len(data1['features'])):\n",
        "        #print(data1['features'][i]['properties']['id'])\n",
        "        \n",
        "        coords = data1['features'][i]['geometry']['coordinates']\n",
        "        [j.pop(2) for j in coords[0][0]]\n",
        "        id1 = data1['features'][i]['properties']['id']\n",
        "        type1 = data1['features'][i]['properties']['type']\n",
        "        lenkm1 = data1['features'][i]['properties']['len_km']\n",
        "        aoi = ee.Geometry.Polygon(coords[0][0])\n",
        "        \n",
        "        #if id1 > 20:\n",
        "            #print(id1)\n",
        "\n",
        "        imgVV = (ee.ImageCollection('COPERNICUS/S1_GRD_FLOAT')   #S1_GRD_FLOAT\n",
        "                .filter(ee.Filter.listContains('transmitterReceiverPolarisation', 'VV')) \n",
        "                .filter(ee.Filter.eq('instrumentMode', 'IW'))\n",
        "                .select('VV')\n",
        "                .filterDate(sDate0, fDate)\n",
        "                .filterBounds(aoi)\n",
        "                #.reduce(ee.Reducer.percentile([50]))\n",
        "                )\n",
        "\n",
        "        imgVV_fixed = imgVV.max().clip(aoi).toUint8()\n",
        "        im = imgVV_fixed\n",
        "\n",
        "        center = list(aoi.centroid().getInfo().values())[1][1], list(aoi.centroid().getInfo().values())[1][0]\n",
        "\n",
        "        ####### map\n",
        "        #map1 = folium.Map(location=center, zoom_start=10)\n",
        "        #folium.Map.add_ee_layer = add_ee_layer\n",
        "        #map1.add_ee_layer(im, image_viz_params, 'false color composite')\n",
        "        #display(map1)\n",
        "\n",
        "        classes = im.reduceToVectors(\n",
        "            **{\n",
        "            'reducer': ee.Reducer.countEvery(),\n",
        "            'geometry': aoi.getInfo(),\n",
        "            'scale': 10,\n",
        "            'maxPixels': 100000000\n",
        "        })\n",
        "\n",
        "        vessels = (ee.FeatureCollection(classes).filter(ee.Filter.gt('count', 15)).filter(ee.Filter.lt('count', 10000)))\n",
        "        vessels_centroids = vessels.map(lambda f: f.centroid(10))\n",
        "\n",
        "        #vessels_centroids1 = vessels_centroids.intersection(aoi)\n",
        "        vessels_centroids1 = vessels_centroids.filter(ee.Filter.bounds(aoi))\n",
        "        n_vessels = vessels_centroids1.size().getInfo()\n",
        "        n_imgs = imgVV.size().getInfo()\n",
        "        dens = round(100*n_vessels/n_imgs,2)\n",
        "\n",
        "        print(\"there are\", n_vessels, \"vessels\", \"in the\", type1, \"with id\", id1, \"and lenght\", lenkm1, \"km\", \"n_img\", imgVV.size().getInfo())\n",
        "        writer.writerow([id1, lenkm1, n_vessels, n_imgs, dens])\n",
        "        \n",
        "        if n_vessels > 0:\n",
        "            #downloadUrl1 = vessels_centroids1.getDownloadURL(**{'filetype': 'GEOJSON'})\n",
        "            #download(downloadUrl1, \"vessels\", \"vessels_id_\" + str(id1) + \"_\" + year)\n",
        "            if type1 == \"river\":\n",
        "                tot_len_rivers += lenkm1\n",
        "            else:\n",
        "                tot_len_canals += lenkm1\n",
        "\n",
        "print()\n",
        "print(tot_len_rivers, \"kms of Navigable rivers and lakes\")\n",
        "print(tot_len_canals, \"kms of Navigable canals\")\n",
        "print(\"Total of\", tot_len_rivers + tot_len_canals, \"kms of Inland waterways\")"
      ]
    }
  ],
  "metadata": {
    "kernelspec": {
      "display_name": "Python 3 (ipykernel)",
      "language": "python",
      "name": "python3"
    },
    "language_info": {
      "codemirror_mode": {
        "name": "ipython",
        "version": 3
      },
      "file_extension": ".py",
      "mimetype": "text/x-python",
      "name": "python",
      "nbconvert_exporter": "python",
      "pygments_lexer": "ipython3",
      "version": "3.7.12"
    },
    "colab": {
      "provenance": [],
      "collapsed_sections": [],
      "include_colab_link": true
    }
  },
  "nbformat": 4,
  "nbformat_minor": 5
}
